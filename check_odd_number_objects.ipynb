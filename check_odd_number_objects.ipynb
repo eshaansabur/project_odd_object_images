{
 "cells": [
  {
   "cell_type": "code",
   "execution_count": 1,
   "id": "bed36220-5159-467f-98ea-bef899981995",
   "metadata": {},
   "outputs": [
    {
     "name": "stdin",
     "output_type": "stream",
     "text": [
      "team name:  QS_Remote\n",
      "workspace name:  Cow\n",
      "whats your server? quantigo or ag or app or Oddbot:  quantigo\n"
     ]
    }
   ],
   "source": [
    "import supervisely as sly\n",
    "\n",
    "#take team name, workspace name and project name of supervisely\n",
    "team_name = input(\"team name: \")\n",
    "workspace_name = input(\"workspace name: \")\n",
    "#project_name = input(\"project name : \")\n",
    "\n",
    "#take the server you want to use\n",
    "serv = input(\"whats your server? quantigo or ag or app or Oddbot: \")\n",
    "if serv == \"quantigo\" :\n",
    "    address = \"quantigo.supervise.ly\" #os.environ['SERVER_ADDRESS']\n",
    "    token = \"XkQsGPqu4q1CpYNw8sWFEDbhvxxElQUKV0lUUYV1S0HIIv7Qi0TCCBOCxr0AvAEOag0th0per63ImPvmPYK29bSCVUIh4vl99wHhOgFa0zYUicvHyhhDQVCCfn2tBByI\" \n",
    "    api = sly.Api(address, token)\n",
    "if serv == \"ag\":\n",
    "    address = 'https://ag-quantigo.supervise.ly/'\n",
    "    token = 'vACftwKNVSKr5isfBlX9mQ8iIuB47peOVHeQGGHs0VGVm1BaEH6qM6lgTWjF2eWYvFaFtg0gWxToG3FRBckim5MoRkfiyLuYRFiUZZphmwKq74cES6DCBDUXiQm08Vip'\n",
    "    api = sly.Api(address, token)\n",
    "if serv == \"app\":\n",
    "    address = \"https://app.supervise.ly/\" #os.environ['SERVER_ADDRESS']\n",
    "    token = \"55uQoEbOlfANSIrSuAU4YlsO6vlXlePuTYiW7umlWhTUEP4J16hPzvm5nIzE57iIIpOsTUdlfhZmwK9Odyz3ra1ZnCqlESO0s9x5FgvID9l7emdIJXvjMXYWJEIduCfH\"\n",
    "    api = sly.Api(address, token)\n",
    "if serv == \"Oddbot\":\n",
    "    address = \"http://40.115.30.124/\" #os.environ['SERVER_ADDRESS']\n",
    "    token = \"r0fZ3xO7Gro7d7pYh3L9oSJqJiwbFk9pCC85leqU9Uz7j3xRuD3P7HjJ5N84k7pLqsVP2xcAZHXqtlSBfbYuDW4xDXYsVKW92PjGwmipCz6IzUka1lj0VFnJJ2wKTF5M\"\n",
    "    api = sly.Api(address, token)\n",
    "\n",
    "# Initialize API object\n",
    "api = sly.Api(address, token)\n",
    "team = api.team.get_info_by_name(team_name)\n",
    "if team is None:\n",
    "    raise RuntimeError(\"Team {!r} not found\".format(team_name))\n",
    "\n",
    "workspace = api.workspace.get_info_by_name(team.id, workspace_name)\n",
    "if workspace is None:\n",
    "    raise RuntimeError(\"Workspace {!r} not found\".format(workspace_name))\n",
    "project_list = api.project.get_list(workspace.id)"
   ]
  },
  {
   "cell_type": "code",
   "execution_count": 5,
   "id": "cb346241-0956-4a0a-9bd4-31f8f076092f",
   "metadata": {},
   "outputs": [
    {
     "name": "stdout",
     "output_type": "stream",
     "text": [
      "-----------------------------------\n"
     ]
    }
   ],
   "source": [
    "Image_Appender= []\n",
    "Odd_Objects_Appender= []\n",
    "projectName= 'Cow_post_parlour'\n",
    "for project in project_list:\n",
    "    project_name= project.name\n",
    "    if project_name == projectName:\n",
    "        #print(\"Project Name: \", project_name)\n",
    "        project = api.project.get_info_by_name(workspace.id, project_name)\n",
    "        #print(\"Project Id: \", project.id)\n",
    "        datasets = api.dataset.get_list(project.id)\n",
    "        for dataset in datasets:\n",
    "            dataset_id = dataset.id\n",
    "            ann_infos = api.annotation.get_list(dataset_id)\n",
    "            # for ann_info in ann_infos:\n",
    "            print(\"-----------------------------------\")\n",
    "            for ann_info in ann_infos:\n",
    "                Image_name= ann_info.image_name\n",
    "                Annotation= ann_info.annotation\n",
    "                #print(Annotation)\n",
    "                demo_objects = Annotation['objects']\n",
    "                if len(demo_objects)%2 != 0:\n",
    "                    print(Image_name, len(demo_objects))\n",
    "                    Image_Appender.append(Image_name)\n",
    "                    Odd_Objects_Appender.append(len(demo_objects))"
   ]
  },
  {
   "cell_type": "code",
   "execution_count": 6,
   "id": "95517f22-1f0b-451e-b664-04a1e5fcba16",
   "metadata": {},
   "outputs": [
    {
     "name": "stdout",
     "output_type": "stream",
     "text": [
      "<class 'pandas.core.frame.DataFrame'>\n",
      "Index: 0 entries\n",
      "Data columns (total 2 columns):\n",
      " #   Column         Non-Null Count  Dtype \n",
      "---  ------         --------------  ----- \n",
      " 0   image_name     0 non-null      object\n",
      " 1   Object_length  0 non-null      object\n",
      "dtypes: object(2)\n",
      "memory usage: 0.0+ bytes\n"
     ]
    }
   ],
   "source": [
    "import pandas as pd\n",
    "df = pd.DataFrame(list(zip(Image_Appender, Odd_Objects_Appender)),\n",
    "               columns =['image_name', 'Object_length'])\n",
    "df.info()"
   ]
  },
  {
   "cell_type": "code",
   "execution_count": 7,
   "id": "15de48f8-8d9c-44d0-857f-3b8fbacd18f6",
   "metadata": {},
   "outputs": [
    {
     "data": {
      "text/html": [
       "<div>\n",
       "<style scoped>\n",
       "    .dataframe tbody tr th:only-of-type {\n",
       "        vertical-align: middle;\n",
       "    }\n",
       "\n",
       "    .dataframe tbody tr th {\n",
       "        vertical-align: top;\n",
       "    }\n",
       "\n",
       "    .dataframe thead th {\n",
       "        text-align: right;\n",
       "    }\n",
       "</style>\n",
       "<table border=\"1\" class=\"dataframe\">\n",
       "  <thead>\n",
       "    <tr style=\"text-align: right;\">\n",
       "      <th></th>\n",
       "      <th>image_name</th>\n",
       "      <th>Object_length</th>\n",
       "    </tr>\n",
       "  </thead>\n",
       "  <tbody>\n",
       "  </tbody>\n",
       "</table>\n",
       "</div>"
      ],
      "text/plain": [
       "Empty DataFrame\n",
       "Columns: [image_name, Object_length]\n",
       "Index: []"
      ]
     },
     "execution_count": 7,
     "metadata": {},
     "output_type": "execute_result"
    }
   ],
   "source": [
    "df"
   ]
  },
  {
   "cell_type": "code",
   "execution_count": 8,
   "id": "b3464d2f-76e5-4d34-9cde-9e6036a39b12",
   "metadata": {},
   "outputs": [],
   "source": [
    "df.to_csv(\"check_odd_number_objects.csv\")"
   ]
  },
  {
   "cell_type": "code",
   "execution_count": null,
   "id": "9221b695-a830-47f9-b19c-9269663e1fbe",
   "metadata": {},
   "outputs": [],
   "source": []
  }
 ],
 "metadata": {
  "kernelspec": {
   "display_name": "Python 3 (ipykernel)",
   "language": "python",
   "name": "python3"
  },
  "language_info": {
   "codemirror_mode": {
    "name": "ipython",
    "version": 3
   },
   "file_extension": ".py",
   "mimetype": "text/x-python",
   "name": "python",
   "nbconvert_exporter": "python",
   "pygments_lexer": "ipython3",
   "version": "3.11.7"
  }
 },
 "nbformat": 4,
 "nbformat_minor": 5
}
